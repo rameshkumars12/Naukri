{
 "cells": [
  {
   "cell_type": "markdown",
   "id": "f46d080b",
   "metadata": {},
   "source": [
    "### Step 1: Importing Libraries"
   ]
  },
  {
   "cell_type": "code",
   "execution_count": null,
   "id": "b8dd8de6",
   "metadata": {},
   "outputs": [],
   "source": [
    "import pandas as pd\n",
    "import matplotlib.pyplot as plt\n",
    "import seaborn as sns\n",
    "import re\n",
    "\n",
    "#Adding Files together\n",
    "df = pd.concat(\n",
    "    map(pd.read_csv, [\"Bangalore Ds Job DataSet.csv\",\"Chennai Ds Job DataSet.csv\",\"Hyderabad Ds Job DataSet.csv\",\"Mumbai Ds Job DataSet.csv\"]), ignore_index=True)\n",
    "df.head(3)"
   ]
  },
  {
   "cell_type": "markdown",
   "id": "ea52f09e",
   "metadata": {},
   "source": [
    "### Step 2: Analyzing the data"
   ]
  },
  {
   "cell_type": "code",
   "execution_count": null,
   "id": "f67e82dd",
   "metadata": {},
   "outputs": [],
   "source": [
    "df.shape"
   ]
  },
  {
   "cell_type": "markdown",
   "id": "c298a577",
   "metadata": {},
   "source": [
    "There are 780 rows and 19 columns in the data set"
   ]
  },
  {
   "cell_type": "code",
   "execution_count": null,
   "id": "0d64dcd8",
   "metadata": {},
   "outputs": [],
   "source": [
    "df.info()"
   ]
  },
  {
   "cell_type": "code",
   "execution_count": null,
   "id": "35dc6be4",
   "metadata": {},
   "outputs": [],
   "source": [
    "df.columns"
   ]
  },
  {
   "cell_type": "code",
   "execution_count": null,
   "id": "997b3294",
   "metadata": {},
   "outputs": [],
   "source": [
    "df.isnull().sum()"
   ]
  },
  {
   "cell_type": "markdown",
   "id": "8e977c8e",
   "metadata": {},
   "source": [
    "### Step 3: Cleaning the Data"
   ]
  },
  {
   "cell_type": "markdown",
   "id": "9425f1e7",
   "metadata": {},
   "source": [
    "Let's remove the unwanted columns"
   ]
  },
  {
   "cell_type": "code",
   "execution_count": null,
   "id": "1f380360",
   "metadata": {},
   "outputs": [],
   "source": [
    "df.head(1)"
   ]
  },
  {
   "cell_type": "code",
   "execution_count": null,
   "id": "f411eb5a",
   "metadata": {},
   "outputs": [],
   "source": [
    "df = df.drop([\"Unnamed: 0\",\"Review Count\", \"Link\", \"Industry\",\"Doctorate \",\"Title\"], axis=1)\n",
    "df.head(1)"
   ]
  },
  {
   "cell_type": "code",
   "execution_count": null,
   "id": "64ebc6e1",
   "metadata": {},
   "outputs": [],
   "source": [
    "df.shape"
   ]
  },
  {
   "cell_type": "markdown",
   "id": "81f32dbc",
   "metadata": {},
   "source": [
    "Now we have 780 rows and 13 columns"
   ]
  },
  {
   "cell_type": "markdown",
   "id": "861ce094",
   "metadata": {},
   "source": [
    "Let's dig deep and clean column wise"
   ]
  },
  {
   "cell_type": "markdown",
   "id": "73e98bc9",
   "metadata": {},
   "source": [
    "##### Column Company"
   ]
  },
  {
   "cell_type": "code",
   "execution_count": null,
   "id": "0a9040c2",
   "metadata": {},
   "outputs": [],
   "source": [
    "df[\"Company\"].value_counts()[0:5]"
   ]
  },
  {
   "cell_type": "markdown",
   "id": "dd76ebf0",
   "metadata": {},
   "source": [
    "Column Company looks fine, Now let's move to the next column rating"
   ]
  },
  {
   "cell_type": "markdown",
   "id": "99241308",
   "metadata": {},
   "source": [
    "##### Column Rating"
   ]
  },
  {
   "cell_type": "code",
   "execution_count": null,
   "id": "1273e04c",
   "metadata": {},
   "outputs": [],
   "source": [
    "df[\"Rating\"].value_counts()[0:10]"
   ]
  },
  {
   "cell_type": "markdown",
   "id": "bfd255c7",
   "metadata": {},
   "source": [
    "342 company has no rating"
   ]
  },
  {
   "cell_type": "markdown",
   "id": "17b67f95",
   "metadata": {},
   "source": [
    "##### Column Experience"
   ]
  },
  {
   "cell_type": "code",
   "execution_count": null,
   "id": "3d5233fe",
   "metadata": {},
   "outputs": [],
   "source": [
    "df[\"Experience\"].value_counts()[0:5]"
   ]
  },
  {
   "cell_type": "markdown",
   "id": "6fe1669e",
   "metadata": {},
   "source": [
    "##### Column Salary"
   ]
  },
  {
   "cell_type": "code",
   "execution_count": null,
   "id": "cc2b4c75",
   "metadata": {},
   "outputs": [],
   "source": [
    "df[\"Salary\"].value_counts()[0:10]"
   ]
  },
  {
   "cell_type": "markdown",
   "id": "18cb43a1",
   "metadata": {},
   "source": [
    "Out of 780 rows 643 rows doesn't have salary details is better to remove the column"
   ]
  },
  {
   "cell_type": "code",
   "execution_count": null,
   "id": "490278ec",
   "metadata": {},
   "outputs": [],
   "source": [
    "df = df.drop([\"Salary\"],axis = 1)\n",
    "df.head(1)"
   ]
  },
  {
   "cell_type": "markdown",
   "id": "7d61193d",
   "metadata": {},
   "source": [
    "##### Column Location"
   ]
  },
  {
   "cell_type": "code",
   "execution_count": null,
   "id": "e661fd18",
   "metadata": {},
   "outputs": [],
   "source": [
    "df[\"Location\"].value_counts()[0:10]"
   ]
  },
  {
   "cell_type": "markdown",
   "id": "d0855f51",
   "metadata": {},
   "source": [
    "Separating the column into four different columns with different locations"
   ]
  },
  {
   "cell_type": "code",
   "execution_count": null,
   "id": "22440fc0",
   "metadata": {},
   "outputs": [],
   "source": [
    "def Location(x,y):\n",
    "    df[x] =  df[\"Location\"][df[\"Location\"].str.contains(y)]\n",
    "    \n",
    "Location(\"Bangalore\",\"Bangalore\")\n",
    "Location(\"Chennai\",\"Chennai\")\n",
    "Location(\"Hyderabad\",\"Hyderabad\")\n",
    "Location(\"Mumbai\",\"Mumbai\")"
   ]
  },
  {
   "cell_type": "code",
   "execution_count": null,
   "id": "2a1baee5",
   "metadata": {},
   "outputs": [],
   "source": [
    "df.head(2)"
   ]
  },
  {
   "cell_type": "markdown",
   "id": "4dbf0ca8",
   "metadata": {},
   "source": [
    "Renaming the location names"
   ]
  },
  {
   "cell_type": "code",
   "execution_count": null,
   "id": "f44d3bef",
   "metadata": {},
   "outputs": [],
   "source": [
    "def renameloc(x,y):\n",
    "    df[x][df[x].str.contains(x, na = False)] = y\n",
    "\n",
    "renameloc(\"Bangalore\",\"Bangalore\")\n",
    "renameloc(\"Chennai\",\"Chennai\")\n",
    "renameloc(\"Hyderabad\",\"Hyderabad\")\n",
    "renameloc(\"Mumbai\",\"Mumbai\")"
   ]
  },
  {
   "cell_type": "code",
   "execution_count": null,
   "id": "c621cbed",
   "metadata": {},
   "outputs": [],
   "source": [
    "df = df.drop([\"Location\"], axis =1 )\n",
    "df.head(2)"
   ]
  },
  {
   "cell_type": "markdown",
   "id": "a4926319",
   "metadata": {},
   "source": [
    "##### Column Skills"
   ]
  },
  {
   "cell_type": "code",
   "execution_count": null,
   "id": "3ca13b38",
   "metadata": {},
   "outputs": [],
   "source": [
    "df[\"Skills\"].value_counts()[0:5]"
   ]
  },
  {
   "cell_type": "markdown",
   "id": "8d4e251e",
   "metadata": {},
   "source": [
    "Let's Sperate the skill column into different skills category"
   ]
  },
  {
   "cell_type": "code",
   "execution_count": null,
   "id": "121292d5",
   "metadata": {},
   "outputs": [],
   "source": [
    "skills = df[\"Skills\"].str.split(\",\", expand = True)\n",
    "skills.head(3)"
   ]
  },
  {
   "cell_type": "code",
   "execution_count": null,
   "id": "daaa8213",
   "metadata": {},
   "outputs": [],
   "source": [
    "df_new = pd.concat([df,skills], axis=1, join='inner')"
   ]
  },
  {
   "cell_type": "code",
   "execution_count": null,
   "id": "44d6bfaf",
   "metadata": {},
   "outputs": [],
   "source": [
    "df_new = df_new.drop([\"Skills\"], axis = 1)\n",
    "df_new.head(2)"
   ]
  },
  {
   "cell_type": "code",
   "execution_count": null,
   "id": "7ab840b5",
   "metadata": {},
   "outputs": [],
   "source": [
    "df_new[\"Role\"]  = df_new[\"Role\"].str.replace(\",\",\"\")"
   ]
  },
  {
   "cell_type": "code",
   "execution_count": null,
   "id": "a5415303",
   "metadata": {},
   "outputs": [],
   "source": [
    "df_new[\"Role\"].value_counts()[0:10]"
   ]
  },
  {
   "cell_type": "code",
   "execution_count": null,
   "id": "7d3b40d5",
   "metadata": {},
   "outputs": [],
   "source": [
    "df_new[\"Role Category\"].value_counts()[0:10]"
   ]
  },
  {
   "cell_type": "code",
   "execution_count": null,
   "id": "ea56d764",
   "metadata": {},
   "outputs": [],
   "source": [
    "df_new = df_new.drop([\"Functional Area\"], axis = 1)\n",
    "df.head(2)"
   ]
  },
  {
   "cell_type": "code",
   "execution_count": null,
   "id": "c2b4d3cd",
   "metadata": {},
   "outputs": [],
   "source": [
    "df[\"Employment Type\"].value_counts()[0:10]"
   ]
  },
  {
   "cell_type": "code",
   "execution_count": null,
   "id": "a181fcda",
   "metadata": {},
   "outputs": [],
   "source": [
    "df_new[\"Industry Type\"].value_counts()[0:10]"
   ]
  },
  {
   "cell_type": "code",
   "execution_count": null,
   "id": "51b3d6f4",
   "metadata": {},
   "outputs": [],
   "source": [
    "df_new.to_excel(\"Naukri DataSet for Dashboard.xlsx\", index = False)"
   ]
  },
  {
   "cell_type": "code",
   "execution_count": null,
   "id": "76e2aaf6",
   "metadata": {},
   "outputs": [],
   "source": [
    "df_new.head(2)"
   ]
  },
  {
   "cell_type": "code",
   "execution_count": null,
   "id": "4d27e35f",
   "metadata": {},
   "outputs": [],
   "source": []
  }
 ],
 "metadata": {
  "kernelspec": {
   "display_name": "Python 3",
   "language": "python",
   "name": "python3"
  },
  "language_info": {
   "codemirror_mode": {
    "name": "ipython",
    "version": 3
   },
   "file_extension": ".py",
   "mimetype": "text/x-python",
   "name": "python",
   "nbconvert_exporter": "python",
   "pygments_lexer": "ipython3",
   "version": "3.8.8"
  }
 },
 "nbformat": 4,
 "nbformat_minor": 5
}
